{
 "cells": [
  {
   "cell_type": "markdown",
   "id": "e0cf0747",
   "metadata": {},
   "source": [
    "# 量子アルゴリズム: 変分量子アルゴリズム\n",
    "\n",
    "<Admonition type=\"note\">\n",
    "  Created by Takashi Imamichi on 2024/05/24,\n",
    "\n",
    "Modified by Hiromichi Hayashi on 2025/10/29.\n",
    "\n",
    "[Original material](https://quantum-tokyo.github.io/introduction/courses/utility-scale-quantum-computing/variational-quantum-algorithms-ja.html)\n",
    "\n",
    "[English material](https://quantum.cloud.ibm.com/learning/en/courses/utility-scale-quantum-computing/variational-quantum-algorithms)\n",
    "\n",
    "</Admonition>\n"
   ]
  },
  {
   "cell_type": "markdown",
   "id": "59fbaadc",
   "metadata": {},
   "source": [
    "## 1. はじめに\n",
    "\n",
    "このチュートリアルでは、量子古典ハイブリッドアルゴリズムの概要を説明し、特に変分量子固有値ソルバー (VQE) と量子近似最適化アルゴリズム (QAOA) に焦点を当てます。これらのアルゴリズムの主な目的は、パラメーター化された量子ゲートを備えた量子回路を使って最適化の問題に取り組むことです。\n",
    "\n",
    "量子コンピューティングの進歩にもかかわらず、現在の量子デバイスにはノイズが存在するため、深い量子回路から意味のある結果を抽出することが困難になっています。この課題を克服するために、VQE と QAOA は、量子計算を使用して比較的短い量子回路を反復的に実行し、古典計算を使用して目的となるパラメータ化された量子回路のパラメーターを最適化するハイブリッド量子古典的アプローチです。\n",
    "\n",
    "QAOA は、さまざまなエラー緩和・抑制技術の適用により、ユーティリティー規模の問題に対する最適なソリューションを提供する可能性があります。VQE には、拡張性が低い多くのアプリケーション(量子化学など)があります。しかし、クリロフ部分空間対角化やサンプルベースの量子対角化(SQD)など、VQE を補完および拡張するための固有値関連のアプローチが数多く登場しています。VQE を理解することは、幅広い古典量子ハイブリッドアルゴリズムを理解するための重要な第一歩です。\n",
    "\n",
    "このモジュールでは、VQE と QAOA の基本的な概念と実装について説明します。今後のチュートリアルでは、これらのアルゴリズムをスケールアップするための高度なトピックとテクニックについて説明します。\n"
   ]
  },
  {
   "cell_type": "markdown",
   "id": "d3f4500f",
   "metadata": {},
   "source": [
    "このノートブックを実行するには、環境に次のライブラリーが必要です。まだインストールしていない場合は、コメントを解除して次のセルを実行することでインストールできます。\n"
   ]
  },
  {
   "cell_type": "code",
   "execution_count": 43,
   "id": "2a8e650f",
   "metadata": {},
   "outputs": [],
   "source": [
    "# % pip install qiskit[visualization] qiskit-ibm-runtime"
   ]
  },
  {
   "cell_type": "markdown",
   "id": "be601762",
   "metadata": {},
   "source": [
    "## 2. 簡単なハミルトニアンの最小固有値の計算\n",
    "\n",
    "VQE を非常に単純なケースに適用して、それがどのように機能するかを確認することから始めます。VQE でパウリ $Z$ 行列の最小固有値を計算します。まず、いくつかの一般的なパッケージをインポートします。\n"
   ]
  },
  {
   "cell_type": "code",
   "execution_count": 44,
   "id": "e8f398b2",
   "metadata": {},
   "outputs": [],
   "source": [
    "import numpy as np\n",
    "from qiskit.circuit import ParameterVector, QuantumCircuit\n",
    "from qiskit.primitives import StatevectorEstimator, StatevectorSampler\n",
    "from qiskit.quantum_info import SparsePauliOp\n",
    "from scipy.optimize import minimize"
   ]
  },
  {
   "cell_type": "markdown",
   "id": "d4395012",
   "metadata": {},
   "source": [
    "はじめに、目的の演算子を定義し、行列形式で表示します。\n"
   ]
  },
  {
   "cell_type": "code",
   "execution_count": 45,
   "id": "a4f374a2",
   "metadata": {},
   "outputs": [
    {
     "data": {
      "text/plain": [
       "array([[ 1.+0.j,  0.+0.j],\n",
       "       [ 0.+0.j, -1.+0.j]])"
      ]
     },
     "execution_count": 45,
     "metadata": {},
     "output_type": "execute_result"
    }
   ],
   "source": [
    "op = SparsePauliOp(\"Z\")\n",
    "op.to_matrix()"
   ]
  },
  {
   "cell_type": "markdown",
   "id": "0a001e71",
   "metadata": {},
   "source": [
    "この固有値を古典的に取得するのは簡単なので、ここで確認のために計算します。この計算は、ユーティリティー規模に拡大するにつれて困難になる可能性があります。ここでは numpy を使用します。\n"
   ]
  },
  {
   "cell_type": "code",
   "execution_count": 46,
   "id": "c9188662",
   "metadata": {},
   "outputs": [
    {
     "name": "stdout",
     "output_type": "stream",
     "text": [
      "Eigenvalues: [-1.  1.]\n"
     ]
    }
   ],
   "source": [
    "# compute eigenvalues with numpy\n",
    "result = np.linalg.eigh(op.to_matrix())\n",
    "print(\"Eigenvalues:\", result.eigenvalues)"
   ]
  },
  {
   "cell_type": "markdown",
   "id": "8f9af345",
   "metadata": {},
   "source": [
    "変分量子アルゴリズムを使用して固有値を取得するために、変分パラメーターを使うゲートを用いた回路を構築します。\n"
   ]
  },
  {
   "cell_type": "code",
   "execution_count": 47,
   "id": "99d5d36b",
   "metadata": {},
   "outputs": [
    {
     "data": {
      "image/png": "[encoded data removed]",
      "text/plain": [
       "<Figure size 352.675x200.667 with 1 Axes>"
      ]
     },
     "execution_count": 47,
     "metadata": {},
     "output_type": "execute_result"
    }
   ],
   "source": [
    "# define a variational form\n",
    "param = ParameterVector(\"a\", 3)\n",
    "qc = QuantumCircuit(1, 1)\n",
    "qc.u(param[0], param[1], param[2], 0)\n",
    "qc_estimator = qc.copy()\n",
    "qc.measure(0, 0)\n",
    "qc.draw(\"mpl\")"
   ]
  },
  {
   "cell_type": "markdown",
   "id": "9607ab51",
   "metadata": {},
   "source": [
    "演算子の期待値( $Z$ など)を推定したい場合は、Estimator を使用する必要があります。システムの状態を調べたい場合は、Sampler を使用します。\n"
   ]
  },
  {
   "cell_type": "code",
   "execution_count": 48,
   "id": "df8ed8d3",
   "metadata": {},
   "outputs": [],
   "source": [
    "sampler = StatevectorSampler()\n",
    "estimator = StatevectorEstimator()"
   ]
  },
  {
   "cell_type": "markdown",
   "id": "880bccfb",
   "metadata": {},
   "source": [
    "Sampler を使用して、ランダムなパラメーター値 `[1, 2, 3]` を使用してビット文字列 0 と 1 のカウントを計算できます。\n"
   ]
  },
  {
   "cell_type": "code",
   "execution_count": 49,
   "id": "5301ee71",
   "metadata": {},
   "outputs": [
    {
     "data": {
      "text/plain": [
       "{'0': 800, '1': 224}"
      ]
     },
     "execution_count": 49,
     "metadata": {},
     "output_type": "execute_result"
    }
   ],
   "source": [
    "# compute counts of bitstrings with random parameter values by Sampler\n",
    "result = sampler.run([(qc, [1, 2, 3])]).result()\n",
    "counts = result[0].data.c.get_counts()\n",
    "counts"
   ]
  },
  {
   "cell_type": "markdown",
   "id": "30ef9b8f",
   "metadata": {},
   "source": [
    "Z の期待値は、$\\langle Z \\rangle = p_0 - p_1$で、確率は$\\{0:p_0, 1:p_1\\}$で計算できることがわかっています。\n"
   ]
  },
  {
   "cell_type": "code",
   "execution_count": 50,
   "id": "0f220c8d",
   "metadata": {},
   "outputs": [
    {
     "data": {
      "text/plain": [
       "0.5625"
      ]
     },
     "execution_count": 50,
     "metadata": {},
     "output_type": "execute_result"
    }
   ],
   "source": [
    "# compute the expectation value of Z based on the counts\n",
    "(counts.get(\"0\", 0) - counts.get(\"1\", 0)) / sum(counts.values())"
   ]
  },
  {
   "cell_type": "markdown",
   "id": "695ee4bd",
   "metadata": {},
   "source": [
    "この回路は機能しましたが、選択されたパラメーター値は、非常に低エネルギー(または低い固有値)の状態に対応していませんでした。得られる固有値は最小値よりかなり高いです。Estimator を使用する場合も、結果は同様です。\n",
    "\n",
    "Estimator は測定なしで量子回路を取得することに注意してください。\n"
   ]
  },
  {
   "cell_type": "code",
   "execution_count": 51,
   "id": "c9e05530",
   "metadata": {},
   "outputs": [
    {
     "data": {
      "text/plain": [
       "array(0.54030231)"
      ]
     },
     "execution_count": 51,
     "metadata": {},
     "output_type": "execute_result"
    }
   ],
   "source": [
    "result = estimator.run([(qc_estimator, op, [1, 2, 3])]).result()\n",
    "result[0].data.evs"
   ]
  },
  {
   "cell_type": "markdown",
   "id": "b538e8b5",
   "metadata": {},
   "source": [
    "パラメーターを検索して、最も低い固有値を生成するパラメーターを見つける必要があります。\n",
    "変分形式のパラメーター値を受け取り、期待値$\\langle Z \\rangle$を返す関数を作成します。\n"
   ]
  },
  {
   "cell_type": "code",
   "execution_count": 52,
   "id": "97fead46",
   "metadata": {},
   "outputs": [],
   "source": [
    "# define a cost function to look for the minimum eigenvalue of Z\n",
    "def cost(x):\n",
    "    result = sampler.run([(qc, x)]).result()\n",
    "    counts = result[0].data.c.get_counts()\n",
    "    expval = (counts.get(\"0\", 0) - counts.get(\"1\", 0)) / sum(counts.values())\n",
    "    # the following line shows the trajectory of the optimization\n",
    "    print(expval, counts)\n",
    "    return expval"
   ]
  },
  {
   "cell_type": "markdown",
   "id": "a97eaeba",
   "metadata": {},
   "source": [
    "SciPy の `minimize` 関数を適用して、Z の最小固有値を見つけましょう。\n"
   ]
  },
  {
   "cell_type": "code",
   "execution_count": 53,
   "id": "44f56300",
   "metadata": {},
   "outputs": [
    {
     "name": "stdout",
     "output_type": "stream",
     "text": [
      "1.0 {'0': 1024}\n",
      "0.546875 {'0': 792, '1': 232}\n",
      "0.529296875 {'0': 783, '1': 241}\n",
      "0.513671875 {'0': 775, '1': 249}\n",
      "-0.40625 {'1': 720, '0': 304}\n",
      "-0.673828125 {'0': 167, '1': 857}\n",
      "-0.388671875 {'1': 711, '0': 313}\n",
      "-0.51953125 {'0': 246, '1': 778}\n",
      "-0.607421875 {'1': 823, '0': 201}\n",
      "-0.12890625 {'1': 578, '0': 446}\n",
      "-0.93359375 {'1': 990, '0': 34}\n",
      "-0.984375 {'1': 1016, '0': 8}\n",
      "-1.0 {'1': 1024}\n",
      "-0.998046875 {'1': 1023, '0': 1}\n",
      "-0.99609375 {'1': 1022, '0': 2}\n",
      "-1.0 {'1': 1024}\n",
      "-1.0 {'1': 1024}\n",
      "-1.0 {'1': 1024}\n",
      "-1.0 {'1': 1024}\n",
      "-1.0 {'1': 1024}\n",
      "-0.998046875 {'1': 1023, '0': 1}\n",
      "-1.0 {'1': 1024}\n",
      "-1.0 {'1': 1024}\n",
      "-1.0 {'1': 1024}\n",
      "-0.998046875 {'1': 1023, '0': 1}\n",
      "-1.0 {'1': 1024}\n",
      "-1.0 {'1': 1024}\n",
      "-0.998046875 {'1': 1023, '0': 1}\n",
      "-1.0 {'1': 1024}\n",
      "-1.0 {'1': 1024}\n",
      "-1.0 {'1': 1024}\n",
      "-1.0 {'1': 1024}\n",
      "-1.0 {'1': 1024}\n",
      "-1.0 {'1': 1024}\n",
      "-1.0 {'1': 1024}\n",
      "-1.0 {'1': 1024}\n"
     ]
    },
    {
     "data": {
      "text/plain": [
       " message: Return from COBYLA because the trust region radius reaches its lower bound.\n",
       " success: True\n",
       "  status: 0\n",
       "     fun: -1.0\n",
       "       x: [ 3.113e+00  8.250e-01  1.700e+00]\n",
       "    nfev: 36\n",
       "   maxcv: 0.0"
      ]
     },
     "execution_count": 53,
     "metadata": {},
     "output_type": "execute_result"
    }
   ],
   "source": [
    "# minimize the cost function with scipy's minimize\n",
    "min_result = minimize(cost, [0, 0, 0], method=\"COBYLA\", tol=1e-8)\n",
    "min_result"
   ]
  },
  {
   "cell_type": "code",
   "execution_count": 54,
   "id": "4198224e",
   "metadata": {},
   "outputs": [
    {
     "data": {
      "text/plain": [
       "{'1': 1022, '0': 2}"
      ]
     },
     "execution_count": 54,
     "metadata": {},
     "output_type": "execute_result"
    }
   ],
   "source": [
    "# check counts of bitstrings with the optimal parameters\n",
    "result = sampler.run([(qc, min_result.x)]).result()\n",
    "result[0].data.c.get_counts()"
   ]
  },
  {
   "cell_type": "markdown",
   "id": "d4e77e29",
   "metadata": {},
   "source": [
    "### 2.1 演習\n",
    "\n",
    "VQE を使用して $Z \\otimes Z$ の最小固有値を計算します。\n"
   ]
  },
  {
   "cell_type": "code",
   "execution_count": 55,
   "id": "86a2d76d",
   "metadata": {},
   "outputs": [
    {
     "name": "stdout",
     "output_type": "stream",
     "text": [
      "SparsePauliOp(['ZZ'],\n",
      "              coeffs=[1.+0.j])\n",
      "[[ 1.+0.j  0.+0.j  0.+0.j  0.+0.j]\n",
      " [ 0.+0.j -1.+0.j  0.+0.j  0.+0.j]\n",
      " [ 0.+0.j  0.+0.j -1.+0.j  0.+0.j]\n",
      " [ 0.+0.j  0.+0.j  0.+0.j  1.+0.j]]\n"
     ]
    }
   ],
   "source": [
    "z2 = SparsePauliOp(\"ZZ\")\n",
    "print(z2)\n",
    "print(z2.to_matrix())"
   ]
  },
  {
   "cell_type": "code",
   "execution_count": 56,
   "id": "76092648-3b28-442e-8319-8a8416e0c9d5",
   "metadata": {},
   "outputs": [],
   "source": [
    "# compute eigenvalues with numpy"
   ]
  },
  {
   "cell_type": "code",
   "execution_count": 57,
   "id": "f92a23b5",
   "metadata": {},
   "outputs": [],
   "source": [
    "# define a variational form\n",
    "# qc = ..."
   ]
  },
  {
   "cell_type": "code",
   "execution_count": 58,
   "id": "496572fb",
   "metadata": {},
   "outputs": [],
   "source": [
    "# compute counts of bitstrings with a random parameter values by Sampler\n",
    "# result = sampler.run(...)\n",
    "# result"
   ]
  },
  {
   "cell_type": "code",
   "execution_count": 59,
   "id": "b4cad5d0",
   "metadata": {},
   "outputs": [],
   "source": [
    "# compute the expectation value of ZZ based on the counts"
   ]
  },
  {
   "cell_type": "code",
   "execution_count": 60,
   "id": "5ce555fe",
   "metadata": {},
   "outputs": [],
   "source": [
    "# verify the expectation value of ZZ with Estimator"
   ]
  },
  {
   "cell_type": "code",
   "execution_count": 61,
   "id": "c210c435",
   "metadata": {},
   "outputs": [],
   "source": [
    "# define a cost function to look for the minimum eigenvalue of ZZ\n",
    "# def cost(x):\n",
    "#    expval = ...\n",
    "#    return expval"
   ]
  },
  {
   "cell_type": "code",
   "execution_count": 62,
   "id": "a75f3303",
   "metadata": {},
   "outputs": [],
   "source": [
    "# minimize the cost function with scipy's minimize\n",
    "# min_result = minimize(cost, [...], method=\"COBYLA\", tol=1e-8)\n",
    "# min_result"
   ]
  },
  {
   "cell_type": "code",
   "execution_count": 63,
   "id": "8c476943",
   "metadata": {},
   "outputs": [],
   "source": [
    "# check counts of bitstrings with the optimal parameter values\n",
    "# result = sampler.run(qc, min_result.x).result()\n",
    "# result"
   ]
  },
  {
   "cell_type": "markdown",
   "id": "bc51e7bf-e582-49ba-93f8-035624d56ccf",
   "metadata": {},
   "source": [
    "## 3. Qiskit patterns による量子最適化\n",
    "\n",
    "このハウツーでは、Qiskit patterns と量子近似最適化について学習します。Qiskit patterns は、量子コンピューティングのワークフローを実装するための直感的で反復可能な一連の手順です。\n"
   ]
  },
  {
   "attachments": {},
   "cell_type": "markdown",
   "id": "636ed1de-fc34-4cdd-9398-6fbd7c7fc9c6",
   "metadata": {},
   "source": [
    "![\"Qiskit function\"](https://quantum.cloud.ibm.com/assets-docs-learning/_next/image?url=%2Flearning%2Fimages%2Fcourses%2Futility-scale-quantum-computing%2Fvariational-quantum-algorithms%2Fqiskit-function.avif&w=1200&q=75)\n"
   ]
  },
  {
   "cell_type": "markdown",
   "id": "8d3218ca-ce9e-40b4-a041-1b1d09bac8f5",
   "metadata": {},
   "source": [
    "Qiskit patterns を **組合せ最適化** に適用し、ハイブリッド(量子古典)反復手法である **量子近似最適化アルゴリズム(QAOA)** を使用して **Max-Cut** 問題を解く方法を示します。\n"
   ]
  },
  {
   "cell_type": "markdown",
   "id": "1e943b1a-218a-468c-bb63-4269896ebebe",
   "metadata": {},
   "source": [
    "### 3.1 (小規模) 最適化のための Qiskit patterns\n"
   ]
  },
  {
   "cell_type": "markdown",
   "id": "68fd0b4f-baa4-45dc-9f4c-d9cdff01a651",
   "metadata": {},
   "source": [
    "このパートでは、小規模な Max-Cut 問題で、量子コンピューターを使用して最適化問題を解くために必要な手順を示します。\n"
   ]
  },
  {
   "cell_type": "markdown",
   "id": "74b92ba5-c48a-405c-9c4b-04e985a7afbc",
   "metadata": {},
   "source": [
    "Max-Cut 問題は、クラスタリング、ネットワーク科学、統計物理学など、さまざまな用途で解くのが難しい最適化問題(より具体的には NP 難問題)です。このチュートリアルでは、エッジで接続されたノードのグラフを検討し、カットされたエッジの数が最大化されるように、エッジを「カット」してノードを 2 つのセットに分割することを目的としています。\n"
   ]
  },
  {
   "attachments": {},
   "cell_type": "markdown",
   "id": "887eb6ea-f58e-482f-8965-953a08fceecf",
   "metadata": {},
   "source": [
    "![\"Maxcut\"](https://quantum.cloud.ibm.com/assets-docs-learning/_next/image?url=%2Flearning%2Fimages%2Fcourses%2Futility-scale-quantum-computing%2Fvariational-quantum-algorithms%2Fmaxcut.avif&w=3840&q=75)\n"
   ]
  },
  {
   "cell_type": "markdown",
   "id": "893a25f2",
   "metadata": {},
   "source": [
    "量子アルゴリズムにこの問題をマッピングする前に、まず関数 $f(x)$ の最小化を考えることで、Max-Cut 問題がどのように古典的な組合せ最適化問題になるのかを理解することができます。\n",
    "\n",
    "$$\n",
    "\\min_{x\\in \\{0, 1\\}^n} f(x),\n",
    "$$\n",
    "\n",
    "ここで入力 $x$ はベクトルで、その成分はグラフの各ノードに対応します。そして各成分を $0$ または $1$ のいずれかに制約します（それぞれカットに含まれるか含まれないかを表します）。ここでは例として $n=5$ ノードのグラフを扱います。\n",
    "\n",
    "ノードのペア $i,j$ に対して、その対応する辺 $(i,j)$ がカットに含まれているかを示す関数を定義することができます。たとえば、関数 $x_i + x_j - 2 x_i x_j$ は、 $x_i$ または $x_j$ のいずれか一方が 1 のとき（つまりその辺がカットに含まれるとき）だけ 1 となり、それ以外では 0 になります。\n",
    "\n",
    "カットに含まれる辺の数を最大化する問題は次のように定式化できます。\n",
    "\n",
    "$$\n",
    "\\max_{x\\in \\{0, 1\\}^n} \\sum_{(i,j)} x_i + x_j - 2 x_i x_j,\n",
    "$$\n",
    "\n",
    "これは次のような最小化問題に書き換えることができます。\n",
    "\n",
    "$$\n",
    "\\min_{x\\in \\{0, 1\\}^n} \\sum_{(i,j)}  2 x_i x_j - x_i - x_j.\n",
    "$$\n",
    "\n",
    "このとき、$f(x)$ の最小値は、カットが通過する辺の数が最大であるときに達成されます。ご覧のとおり、この時点ではまだ量子コンピュータに関連するものは登場していません。この問題を量子コンピュータが理解できる形に再定式化する必要があります。\n"
   ]
  },
  {
   "cell_type": "markdown",
   "id": "e2105a90-027f-44d7-97d1-c2c99373d488",
   "metadata": {},
   "source": [
    "$n=5$ ノードを持つグラフを作成して、問題を初期化します。\n"
   ]
  },
  {
   "cell_type": "code",
   "execution_count": 66,
   "id": "d3c0dfa7",
   "metadata": {},
   "outputs": [],
   "source": [
    "import matplotlib\n",
    "import matplotlib.pyplot as plt\n",
    "import numpy as np\n",
    "import rustworkx as rx\n",
    "from rustworkx.visualization import mpl_draw"
   ]
  },
  {
   "cell_type": "code",
   "execution_count": 67,
   "id": "99e763fe",
   "metadata": {},
   "outputs": [
    {
     "data": {
      "image/png": "[encoded data removed]",
      "text/plain": [
       "<Figure size 640x480 with 1 Axes>"
      ]
     },
     "metadata": {},
     "output_type": "display_data"
    }
   ],
   "source": [
    "n = 5\n",
    "\n",
    "graph = rx.PyGraph()\n",
    "graph.add_nodes_from(range(1, n + 1))\n",
    "edge_list = [\n",
    "    (0, 1, 1.0),\n",
    "    (0, 2, 1.0),\n",
    "    (1, 2, 1.0),\n",
    "    (1, 3, 1.0),\n",
    "    (2, 4, 1.0),\n",
    "    (3, 4, 1.0),\n",
    "]\n",
    "graph.add_edges_from(edge_list)\n",
    "pos = rx.spring_layout(graph, seed=2)\n",
    "mpl_draw(graph, node_size=600, pos=pos, with_labels=True, labels=str)"
   ]
  },
  {
   "cell_type": "markdown",
   "id": "a06e4386-d7bd-4914-9baa-36a5cc60e3ab",
   "metadata": {},
   "source": [
    "### 3.2 Step 1. 古典的入力を量子問題へマッピングする\n",
    "\n",
    "このパターンの最初のステップは、古典的な問題（グラフ）を量子 **回路** や **演算子** にマッピングすることです。これを行うために、以下の 3 つの主要なステップを踏みます。\n",
    "\n",
    "1. 一連の数学的な書き換えを利用し、この問題を「制約のない二次二値最適化（Quadratic Unconstrained Binary Optimization, QUBO）」の表記を使って表す。\n",
    "2. 最適化問題を書き換えて、基底状態がコスト関数を最小化する解に対応するようなハミルトニアンにする。\n",
    "3. 量子アニーリングに似たプロセスによって、このハミルトニアンの基底状態を準備する量子回路を作成する。\n",
    "\n",
    "**注意:** QAOA（量子近似最適化アルゴリズム）の手法においては、最終的に必要なのは、ハイブリッドアルゴリズムの **コスト関数** を表す演算子（**ハミルトニアン**）と、問題の候補解に対応する量子状態を表すパラメーター化された回路（**アンザッツ**）です。これらの候補状態をサンプリングし、その後コスト関数を使って評価することができます。\n",
    "\n",
    "#### グラフ → 最適化問題\n",
    "\n",
    "マッピングの最初のステップは表記の変更です。以下のように、この問題を QUBO 表記で表すことができます。\n",
    "\n",
    "$$\n",
    "\\min_{x\\in \\{0, 1\\}^n}x^T Q x,\n",
    "$$\n",
    "\n",
    "ここで $Q$ は実数の $n \\times n$ 行列、$n$ はグラフのノードの数、$x$ は先ほど導入した二値変数のベクトル、そして $x^T$ は $x$ の転置を表します。\n"
   ]
  },
  {
   "cell_type": "markdown",
   "id": "c00a3493-abab-46d8-86a9-5b853979a575",
   "metadata": {},
   "source": [
    "```\n",
    "Problem name: maxcut\n",
    "\n",
    "Minimize\n",
    "  2*x_1*x_2 + 2*x_1*x_3 + 2*x_2*x_3 + 2*x_2*x_4 + 2*x_3*x_5 + 2*x_4*x_5 - 2*x_1\n",
    "  - 3*x_2 - 3*x_3 - 2*x_4 - 2*x_5\n",
    "\n",
    "Subject to\n",
    "  No constraints\n",
    "\n",
    "  Binary variables (5)\n",
    "    x_1 x_2 x_3 x_4 x_5\n",
    "```\n"
   ]
  },
  {
   "cell_type": "markdown",
   "id": "a5b9e551-38a1-4543-b9f1-caaefb0ef3a9",
   "metadata": {},
   "source": [
    "#### 最適化問題 → ハミルトニアン\n",
    "\n",
    "次に、QUBO 問題を **ハミルトニアン**（ここでは、系のエネルギーを表す行列）として再定式化することができます：\n",
    "\n",
    "$$\n",
    "H_C=\\sum_{ij}Q_{ij}Z_iZ_j + \\sum_i b_iZ_i.\n",
    "$$\n",
    "\n",
    "**QAOA 問題からハミルトニアンへの再定式化ステップ**\n",
    "\n",
    "QAOA 問題がこのように書き換えられることを示すために、まず二値変数 $x_i$ を新しい変数 $z_i\\in\\{-1,1\\}$ に置き換えます：\n",
    "\n",
    "$$\n",
    "x_i = \\frac{1-z_i}{2}.\n",
    "$$\n",
    "\n",
    "ここでわかるように、もし $x_i=0$ であれば $z_i=1$ でなければなりません。$x_i$ を $z_i$ に置き換えて最適化問題（$x^TQx$）に代入すると、同値な定式化が得られます。\n",
    "\n",
    "$$\n",
    "x^TQx=\\sum_{ij}Q_{ij}x_ix_j \\\\ =\\frac{1}{4}\\sum_{ij}Q_{ij}(1-z_i)(1-z_j) \\\\=\\frac{1}{4}\\sum_{ij}Q_{ij}z_iz_j-\\frac{1}{4}\\sum_{ij}(Q_{ij}+Q_{ji})z_i + \\frac{n^2}{4}.\n",
    "$$\n",
    "\n",
    "ここで $b_i=-\\sum_{j}(Q_{ij}+Q_{ji})$ と定義し、係数や定数項 $n^2$ を取り除くと、同じ最適化問題の二つの同値な定式化に到達します：\n",
    "\n",
    "$$\n",
    "\\min_{x\\in\\{0,1\\}^n} x^TQx \\Longleftrightarrow \\min_{z\\in\\{-1,1\\}^n} z^TQz + b^Tz\n",
    "$$\n",
    "\n",
    "ここで $b$ は $Q$ に依存します。なお、$z^TQz + b^Tz$ を得るために、1/4 の係数と $n^2$ の定数項を無視しました。これらは最適化においては役割を果たさないためです。\n",
    "\n",
    "次に、問題を量子形式にするために、変数 $z_i$ をパウリ $Z$ 行列に置き換えます。例えば、次のような $2\\times 2$ の行列です：\n",
    "\n",
    "$$\n",
    "Z_i = \\begin{pmatrix}1 & 0 \\\\ 0 & -1\\end{pmatrix}.\n",
    "$$\n",
    "\n",
    "この行列を最適化問題に代入すると、次のようなハミルトニアンが得られます：\n",
    "\n",
    "$$\n",
    "H_C=\\sum_{ij}Q_{ij}Z_i Z_j + \\sum_i b_i Z_i.\n",
    "$$\n",
    "\n",
    "_また、$Z$ 行列は量子コンピュータの計算空間、すなわち $2^n \\times 2^n$ のヒルベルト空間に埋め込まれていることに注意してください。したがって $Z_i Z_j$ のような項は、$2^n \\times 2^n$ のヒルベルト空間におけるテンソル積 $Z_i \\otimes Z_j$ として理解する必要があります。たとえば、5 つの決定変数を持つ問題において $Z_1Z_3$ という項は、$I \\otimes Z_3 \\otimes I \\otimes Z_1 \\otimes I$ を意味します。ここで $I$ は $2 \\times 2$ の単位行列です。_\n",
    "\n",
    "このハミルトニアンは **コスト関数ハミルトニアン** と呼ばれます。その基底状態が **コスト関数 $f(x)$ を最小化する解** に対応するという性質を持ちます。したがって、最適化問題を解くには、量子コンピュータ上で $H_C$ の基底状態（あるいはそれと高い重なりを持つ状態）を準備する必要があります。そして、この状態からサンプリングすることで、高い確率で $\\min f(x)$ の解を得ることができます。\n"
   ]
  },
  {
   "cell_type": "code",
   "execution_count": 68,
   "id": "47256f53-8e02-494e-864a-a6f45b10442a",
   "metadata": {},
   "outputs": [],
   "source": [
    "def build_max_cut_operator(graph: rx.PyGraph) -> tuple[SparsePauliOp, float]:\n",
    "    sp_list = []\n",
    "    constant = 0\n",
    "    for s, t in graph.edge_list():\n",
    "        w = graph.get_edge_data(s, t)\n",
    "        sp_list.append((\"ZZ\", [s, t], w / 2))\n",
    "        constant -= 1 / 2\n",
    "    return SparsePauliOp.from_sparse_list(sp_list, num_qubits=graph.num_nodes()), constant"
   ]
  },
  {
   "cell_type": "code",
   "execution_count": 69,
   "id": "01a2d8eb-b63b-40bc-93c5-0b547c06b194",
   "metadata": {},
   "outputs": [
    {
     "name": "stdout",
     "output_type": "stream",
     "text": [
      "Cost Function Hamiltonian: SparsePauliOp(['IIIZZ', 'IIZIZ', 'IIZZI', 'IZIZI', 'ZIZII', 'ZZIII'],\n",
      "              coeffs=[0.5+0.j, 0.5+0.j, 0.5+0.j, 0.5+0.j, 0.5+0.j, 0.5+0.j])\n",
      "Constant: -3.0\n"
     ]
    }
   ],
   "source": [
    "cost_hamiltonian, constant = build_max_cut_operator(graph)\n",
    "print(\"Cost Function Hamiltonian:\", cost_hamiltonian)\n",
    "print(\"Constant:\", constant)"
   ]
  },
  {
   "cell_type": "markdown",
   "id": "33f71b0d-4a2a-4082-8c1a-ce9d2b769048",
   "metadata": {},
   "source": [
    "#### ハミルトニアン → 量子回路\n"
   ]
  },
  {
   "cell_type": "markdown",
   "id": "00431c46-30c2-40f9-99df-40baf8da98f6",
   "metadata": {},
   "source": [
    "ハミルトニアン $H_C$ には、問題の量子版の定義が含まれています。ここから、量子コンピュータから「良い解」を _サンプリング_ するのに役立つ量子回路を作ることができます。QAOA は量子アニーリングに着想を得ており、量子回路の中で演算子を交互に適用する層を重ねていきます。\n",
    "\n",
    "基本的なアイデアは、既知の系の基底状態（上記の $H^{\\otimes n}|0\\rangle$）から始め、目的とするコスト演算子の基底状態へと系を導いていくというものです。これは、角度 $\\gamma_1, \\dots, \\gamma_p$ および $\\beta_1, \\dots, \\beta_p$ をパラメータとして持つ演算子 $\n",
    "\\exp\\{-i\\gamma_k H_C\\}, \\quad \\exp\\{-i\\beta_k H_m\\}$ を適用することによって行われます。\n",
    "\n",
    "生成される量子回路は $\\gamma_i$ と $\\beta_i$ によって **パラメーター化** されているので、これらの値をさまざまに試し、その結果得られる状態からサンプリングを行うことができます。\n"
   ]
  },
  {
   "cell_type": "markdown",
   "id": "0d12bc53-7805-43e4-b4cb-754fd234b519",
   "metadata": {},
   "source": [
    "この場合、2 つのパラメーター $\\gamma_1$ と $\\beta_1$ を含む **1 層の QAOA** の例を試してみます。\n"
   ]
  },
  {
   "cell_type": "code",
   "execution_count": 72,
   "id": "1f6215c0",
   "metadata": {},
   "outputs": [],
   "source": [
    "from qiskit.circuit.library import QAOAAnsatz"
   ]
  },
  {
   "cell_type": "code",
   "execution_count": 73,
   "id": "7bd8c6d4-f40f-4a11-a440-0b26d9021b53",
   "metadata": {},
   "outputs": [
    {
     "data": {
      "image/png": "[encoded data removed]",
      "text/plain": [
       "<Figure size 831.22x535.111 with 1 Axes>"
      ]
     },
     "execution_count": 73,
     "metadata": {},
     "output_type": "execute_result"
    }
   ],
   "source": [
    "circuit = QAOAAnsatz(cost_operator=cost_hamiltonian, reps=1)\n",
    "circuit.measure_all()\n",
    "circuit.draw(\"mpl\")"
   ]
  },
  {
   "cell_type": "code",
   "execution_count": 74,
   "id": "148d2d62",
   "metadata": {},
   "outputs": [
    {
     "data": {
      "image/png": "[encoded data removed]",
      "text/plain": [
       "<Figure size 2252.61x535.111 with 1 Axes>"
      ]
     },
     "execution_count": 74,
     "metadata": {},
     "output_type": "execute_result"
    }
   ],
   "source": [
    "circuit.decompose(reps=3).draw(\"mpl\", fold=-1)"
   ]
  },
  {
   "cell_type": "code",
   "execution_count": 75,
   "id": "315c495a",
   "metadata": {},
   "outputs": [
    {
     "data": {
      "text/plain": [
       "ParameterView([ParameterVectorElement(β[0]), ParameterVectorElement(γ[0])])"
      ]
     },
     "execution_count": 75,
     "metadata": {},
     "output_type": "execute_result"
    }
   ],
   "source": [
    "circuit.parameters"
   ]
  },
  {
   "cell_type": "code",
   "execution_count": 50,
   "id": "2a4f85ab",
   "metadata": {},
   "outputs": [
    {
     "data": {
      "text/plain": [
       "'2.1.2'"
      ]
     },
     "execution_count": 50,
     "metadata": {},
     "output_type": "execute_result"
    }
   ],
   "source": [
    "# Check Qiskit version\n",
    "import qiskit\n",
    "\n",
    "qiskit.__version__"
   ]
  },
  {
   "cell_type": "markdown",
   "id": "a1b8767d",
   "metadata": {},
   "source": [
    "© IBM Corp., 2017-2025\n"
   ]
  }
 ],
 "metadata": {
  "kernelspec": {
   "display_name": ".venv",
   "language": "python",
   "name": "python3"
  },
  "language_info": {
   "codemirror_mode": {
    "name": "ipython",
    "version": 3
   },
   "file_extension": ".py",
   "mimetype": "text/x-python",
   "name": "python",
   "nbconvert_exporter": "python",
   "pygments_lexer": "ipython3",
   "version": "3.12.6"
  }
 },
 "nbformat": 4,
 "nbformat_minor": 5
}
